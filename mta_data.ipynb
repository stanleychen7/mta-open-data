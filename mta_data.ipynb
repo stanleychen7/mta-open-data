{
 "cells": [
  {
   "cell_type": "code",
   "execution_count": 37,
   "metadata": {},
   "outputs": [],
   "source": [
    "import pandas as pd\n",
    "from sodapy import Socrata\n",
    "from dotenv import load_dotenv\n",
    "import os\n",
    "from datetime import datetime\n",
    "import psycopg2 as pg2"
   ]
  },
  {
   "cell_type": "code",
   "execution_count": 38,
   "metadata": {},
   "outputs": [],
   "source": [
    "load_dotenv()\n",
    "myapptoken = os.getenv('MYAPPTOKEN')\n",
    "postgres_user = os.getenv('POSTGRES_USER')\n",
    "postgres_password = os.getenv('POSTGRES_PASSWORD')\n",
    "client = Socrata(\"data.ny.gov\",\n",
    "                 myapptoken\n",
    "                 )\n"
   ]
  },
  {
   "cell_type": "code",
   "execution_count": 39,
   "metadata": {},
   "outputs": [],
   "source": [
    "results = client.get(\"qzve-kjga\", where=\"plaza_id = 30\", limit=100000)\n",
    "results_df = pd.DataFrame.from_records(results)"
   ]
  },
  {
   "cell_type": "code",
   "execution_count": 47,
   "metadata": {},
   "outputs": [
    {
     "data": {
      "text/plain": [
       "plaza_id                                 30\n",
       "date                2024-10-19T00:00:00.000\n",
       "hour                                      0\n",
       "direction                                 I\n",
       "vehicles_e_zpass                       1604\n",
       "vehicles_vtoll                          285\n",
       "Name: 0, dtype: object"
      ]
     },
     "execution_count": 47,
     "metadata": {},
     "output_type": "execute_result"
    }
   ],
   "source": [
    "results_df = results_df.loc[0]\n",
    "results_df"
   ]
  },
  {
   "cell_type": "code",
   "execution_count": 65,
   "metadata": {},
   "outputs": [],
   "source": [
    "connection = pg2.connect(dbname='MTA Open Data', user=postgres_user, password=postgres_password)"
   ]
  },
  {
   "cell_type": "code",
   "execution_count": 66,
   "metadata": {},
   "outputs": [
    {
     "name": "stdout",
     "output_type": "stream",
     "text": [
      "(30, datetime.datetime(2024, 10, 19, 0, 0), 0, 'I', 1604, 285)\n"
     ]
    }
   ],
   "source": [
    "cur = connection.cursor()\n",
    "\n",
    "create_table_query = \"\"\" \n",
    "CREATE TABLE IF NOT EXISTS traffic \n",
    "    (\n",
    "        plaza_id SMALLINT,\n",
    "        date TIMESTAMP,\n",
    "        hour SMALLINT,\n",
    "        direction text,\n",
    "        vehicles_ezpass integer,\n",
    "        vehicles_vtoll integer\n",
    "    )\n",
    "\n",
    "\"\"\"\n",
    "\n",
    "insert_query = \"\"\"\n",
    "    INSERT INTO traffic (plaza_id, date, hour, direction, vehicles_ezpass, vehicles_vtoll)\n",
    "    VALUES (%s, %s, %s, %s, %s, %s)\n",
    "\n",
    "\"\"\"\n",
    "\n",
    "select_query = \"SELECT * FROM traffic\"\n",
    "\n",
    "cur.execute(create_table_query)\n",
    "cur.execute(insert_query, (results_df['plaza_id'], results_df['date'], results_df['hour'], results_df['direction'], results_df['vehicles_e_zpass'], results_df['vehicles_vtoll']))\n",
    "cur.execute(select_query)\n",
    "print(cur.fetchone())\n",
    "connection.commit()\n",
    "\n",
    "cur.close()\n",
    "connection.close()\n",
    "    \n"
   ]
  }
 ],
 "metadata": {
  "kernelspec": {
   "display_name": "MTA_OPEN_DATA",
   "language": "python",
   "name": "python3"
  },
  "language_info": {
   "codemirror_mode": {
    "name": "ipython",
    "version": 3
   },
   "file_extension": ".py",
   "mimetype": "text/x-python",
   "name": "python",
   "nbconvert_exporter": "python",
   "pygments_lexer": "ipython3",
   "version": "3.13.0"
  }
 },
 "nbformat": 4,
 "nbformat_minor": 2
}
